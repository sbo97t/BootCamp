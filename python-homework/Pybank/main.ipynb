{
 "cells": [
  {
   "cell_type": "code",
   "execution_count": 1,
   "metadata": {},
   "outputs": [
    {
     "name": "stdout",
     "output_type": "stream",
     "text": [
      "Financial Analysis\n",
      "Total Months: 86\n",
      "Total: $38382578.0\n"
     ]
    }
   ],
   "source": [
    "opened_file = open('budget_data.csv')\n",
    "\n",
    "from csv import reader\n",
    "read_file = reader(opened_file)\n",
    "\n",
    "\n",
    "budget_data = list(read_file)\n",
    "    \n",
    "\n",
    "header = \"Financial Analysis\"\n",
    "\n",
    "months = len(budget_data[1:])\n",
    "print(header)\n",
    "print(\"Total Months: \" + (str(months)))\n",
    "\n",
    "# total profit and losses\n",
    "\n",
    "total_pnl = 0\n",
    "for row in budget_data[1:]:\n",
    "    total = row[1]\n",
    "    total_pnl = total_pnl + float(total)\n",
    "    budget_data.append(total_pnl)\n",
    "print(f\"Total: ${total_pnl}\")\n",
    "\n",
    "\n",
    "\n",
    "\n"
   ]
  },
  {
   "cell_type": "code",
   "execution_count": null,
   "metadata": {},
   "outputs": [],
   "source": []
  }
 ],
 "metadata": {
  "kernelspec": {
   "display_name": "Python 3",
   "language": "python",
   "name": "python3"
  },
  "language_info": {
   "codemirror_mode": {
    "name": "ipython",
    "version": 3
   },
   "file_extension": ".py",
   "mimetype": "text/x-python",
   "name": "python",
   "nbconvert_exporter": "python",
   "pygments_lexer": "ipython3",
   "version": "3.7.7"
  }
 },
 "nbformat": 4,
 "nbformat_minor": 4
}
